{
 "cells": [
  {
   "cell_type": "markdown",
   "metadata": {},
   "source": [
    "# The Data"
   ]
  },
  {
   "cell_type": "code",
   "execution_count": 1,
   "metadata": {},
   "outputs": [],
   "source": [
    "import pandas as pd\n",
    "\n",
    "data = pd.read_csv('abcnews-date-text.csv', error_bad_lines=False);\n",
    "data_text = data[['headline_text']]\n",
    "data_text['index'] = data_text.index\n",
    "documents = data_text"
   ]
  },
  {
   "cell_type": "code",
   "execution_count": 2,
   "metadata": {},
   "outputs": [
    {
     "data": {
      "text/plain": [
       "1186018"
      ]
     },
     "execution_count": 2,
     "metadata": {},
     "output_type": "execute_result"
    }
   ],
   "source": [
    "len(documents)"
   ]
  },
  {
   "cell_type": "code",
   "execution_count": 3,
   "metadata": {},
   "outputs": [
    {
     "data": {
      "text/html": [
       "<div>\n",
       "<style scoped>\n",
       "    .dataframe tbody tr th:only-of-type {\n",
       "        vertical-align: middle;\n",
       "    }\n",
       "\n",
       "    .dataframe tbody tr th {\n",
       "        vertical-align: top;\n",
       "    }\n",
       "\n",
       "    .dataframe thead th {\n",
       "        text-align: right;\n",
       "    }\n",
       "</style>\n",
       "<table border=\"1\" class=\"dataframe\">\n",
       "  <thead>\n",
       "    <tr style=\"text-align: right;\">\n",
       "      <th></th>\n",
       "      <th>headline_text</th>\n",
       "      <th>index</th>\n",
       "    </tr>\n",
       "  </thead>\n",
       "  <tbody>\n",
       "    <tr>\n",
       "      <th>0</th>\n",
       "      <td>aba decides against community broadcasting lic...</td>\n",
       "      <td>0</td>\n",
       "    </tr>\n",
       "    <tr>\n",
       "      <th>1</th>\n",
       "      <td>act fire witnesses must be aware of defamation</td>\n",
       "      <td>1</td>\n",
       "    </tr>\n",
       "    <tr>\n",
       "      <th>2</th>\n",
       "      <td>a g calls for infrastructure protection summit</td>\n",
       "      <td>2</td>\n",
       "    </tr>\n",
       "    <tr>\n",
       "      <th>3</th>\n",
       "      <td>air nz staff in aust strike for pay rise</td>\n",
       "      <td>3</td>\n",
       "    </tr>\n",
       "    <tr>\n",
       "      <th>4</th>\n",
       "      <td>air nz strike to affect australian travellers</td>\n",
       "      <td>4</td>\n",
       "    </tr>\n",
       "  </tbody>\n",
       "</table>\n",
       "</div>"
      ],
      "text/plain": [
       "                                       headline_text  index\n",
       "0  aba decides against community broadcasting lic...      0\n",
       "1     act fire witnesses must be aware of defamation      1\n",
       "2     a g calls for infrastructure protection summit      2\n",
       "3           air nz staff in aust strike for pay rise      3\n",
       "4      air nz strike to affect australian travellers      4"
      ]
     },
     "execution_count": 3,
     "metadata": {},
     "output_type": "execute_result"
    }
   ],
   "source": [
    "documents[:5]"
   ]
  },
  {
   "cell_type": "markdown",
   "metadata": {},
   "source": [
    "# Data Pre-processing"
   ]
  },
  {
   "cell_type": "code",
   "execution_count": 4,
   "metadata": {},
   "outputs": [],
   "source": [
    "import gensim\n",
    "from gensim.utils import simple_preprocess\n",
    "from gensim.parsing.preprocessing import STOPWORDS\n",
    "from nltk.stem import WordNetLemmatizer, SnowballStemmer\n",
    "from nltk.stem.porter import *\n",
    "import numpy as np\n",
    "np.random.seed(2018)"
   ]
  },
  {
   "cell_type": "code",
   "execution_count": 5,
   "metadata": {},
   "outputs": [
    {
     "name": "stderr",
     "output_type": "stream",
     "text": [
      "[nltk_data] Downloading package wordnet to\n",
      "[nltk_data]     C:\\Users\\רועי\\AppData\\Roaming\\nltk_data...\n",
      "[nltk_data]   Package wordnet is already up-to-date!\n"
     ]
    },
    {
     "data": {
      "text/plain": [
       "True"
      ]
     },
     "execution_count": 5,
     "metadata": {},
     "output_type": "execute_result"
    }
   ],
   "source": [
    "import nltk\n",
    "nltk.download('wordnet')"
   ]
  },
  {
   "cell_type": "markdown",
   "metadata": {},
   "source": [
    "### Lemmatize example"
   ]
  },
  {
   "cell_type": "code",
   "execution_count": 6,
   "metadata": {},
   "outputs": [
    {
     "name": "stdout",
     "output_type": "stream",
     "text": [
      "go\n"
     ]
    }
   ],
   "source": [
    "print(WordNetLemmatizer().lemmatize('went', pos='v'))"
   ]
  },
  {
   "cell_type": "markdown",
   "metadata": {},
   "source": [
    "### Stemmer Example"
   ]
  },
  {
   "cell_type": "code",
   "execution_count": 7,
   "metadata": {},
   "outputs": [
    {
     "data": {
      "text/html": [
       "<div>\n",
       "<style scoped>\n",
       "    .dataframe tbody tr th:only-of-type {\n",
       "        vertical-align: middle;\n",
       "    }\n",
       "\n",
       "    .dataframe tbody tr th {\n",
       "        vertical-align: top;\n",
       "    }\n",
       "\n",
       "    .dataframe thead th {\n",
       "        text-align: right;\n",
       "    }\n",
       "</style>\n",
       "<table border=\"1\" class=\"dataframe\">\n",
       "  <thead>\n",
       "    <tr style=\"text-align: right;\">\n",
       "      <th></th>\n",
       "      <th>original word</th>\n",
       "      <th>stemmed</th>\n",
       "    </tr>\n",
       "  </thead>\n",
       "  <tbody>\n",
       "    <tr>\n",
       "      <th>0</th>\n",
       "      <td>caresses</td>\n",
       "      <td>caress</td>\n",
       "    </tr>\n",
       "    <tr>\n",
       "      <th>1</th>\n",
       "      <td>flies</td>\n",
       "      <td>fli</td>\n",
       "    </tr>\n",
       "    <tr>\n",
       "      <th>2</th>\n",
       "      <td>dies</td>\n",
       "      <td>die</td>\n",
       "    </tr>\n",
       "    <tr>\n",
       "      <th>3</th>\n",
       "      <td>mules</td>\n",
       "      <td>mule</td>\n",
       "    </tr>\n",
       "    <tr>\n",
       "      <th>4</th>\n",
       "      <td>denied</td>\n",
       "      <td>deni</td>\n",
       "    </tr>\n",
       "    <tr>\n",
       "      <th>5</th>\n",
       "      <td>died</td>\n",
       "      <td>die</td>\n",
       "    </tr>\n",
       "    <tr>\n",
       "      <th>6</th>\n",
       "      <td>agreed</td>\n",
       "      <td>agre</td>\n",
       "    </tr>\n",
       "    <tr>\n",
       "      <th>7</th>\n",
       "      <td>owned</td>\n",
       "      <td>own</td>\n",
       "    </tr>\n",
       "    <tr>\n",
       "      <th>8</th>\n",
       "      <td>humbled</td>\n",
       "      <td>humbl</td>\n",
       "    </tr>\n",
       "    <tr>\n",
       "      <th>9</th>\n",
       "      <td>sized</td>\n",
       "      <td>size</td>\n",
       "    </tr>\n",
       "    <tr>\n",
       "      <th>10</th>\n",
       "      <td>meeting</td>\n",
       "      <td>meet</td>\n",
       "    </tr>\n",
       "    <tr>\n",
       "      <th>11</th>\n",
       "      <td>stating</td>\n",
       "      <td>state</td>\n",
       "    </tr>\n",
       "    <tr>\n",
       "      <th>12</th>\n",
       "      <td>siezing</td>\n",
       "      <td>siez</td>\n",
       "    </tr>\n",
       "    <tr>\n",
       "      <th>13</th>\n",
       "      <td>itemization</td>\n",
       "      <td>item</td>\n",
       "    </tr>\n",
       "    <tr>\n",
       "      <th>14</th>\n",
       "      <td>sensational</td>\n",
       "      <td>sensat</td>\n",
       "    </tr>\n",
       "    <tr>\n",
       "      <th>15</th>\n",
       "      <td>traditional</td>\n",
       "      <td>tradit</td>\n",
       "    </tr>\n",
       "    <tr>\n",
       "      <th>16</th>\n",
       "      <td>reference</td>\n",
       "      <td>refer</td>\n",
       "    </tr>\n",
       "    <tr>\n",
       "      <th>17</th>\n",
       "      <td>colonizer</td>\n",
       "      <td>colon</td>\n",
       "    </tr>\n",
       "    <tr>\n",
       "      <th>18</th>\n",
       "      <td>plotted</td>\n",
       "      <td>plot</td>\n",
       "    </tr>\n",
       "  </tbody>\n",
       "</table>\n",
       "</div>"
      ],
      "text/plain": [
       "   original word stemmed\n",
       "0       caresses  caress\n",
       "1          flies     fli\n",
       "2           dies     die\n",
       "3          mules    mule\n",
       "4         denied    deni\n",
       "5           died     die\n",
       "6         agreed    agre\n",
       "7          owned     own\n",
       "8        humbled   humbl\n",
       "9          sized    size\n",
       "10       meeting    meet\n",
       "11       stating   state\n",
       "12       siezing    siez\n",
       "13   itemization    item\n",
       "14   sensational  sensat\n",
       "15   traditional  tradit\n",
       "16     reference   refer\n",
       "17     colonizer   colon\n",
       "18       plotted    plot"
      ]
     },
     "execution_count": 7,
     "metadata": {},
     "output_type": "execute_result"
    }
   ],
   "source": [
    "stemmer = SnowballStemmer('english')\n",
    "original_words = ['caresses', 'flies', 'dies', 'mules', 'denied','died', 'agreed', 'owned', \n",
    "           'humbled', 'sized','meeting', 'stating', 'siezing', 'itemization','sensational', \n",
    "           'traditional', 'reference', 'colonizer','plotted']\n",
    "singles = [stemmer.stem(plural) for plural in original_words]\n",
    "pd.DataFrame(data = {'original word': original_words, 'stemmed': singles})"
   ]
  },
  {
   "cell_type": "code",
   "execution_count": 8,
   "metadata": {},
   "outputs": [],
   "source": [
    "def lemmatize_stemming(text):\n",
    "    return stemmer.stem(WordNetLemmatizer().lemmatize(text, pos='v'))\n",
    "\n",
    "def preprocess(text):\n",
    "    result = []\n",
    "    for token in gensim.utils.simple_preprocess(text):\n",
    "        if token not in gensim.parsing.preprocessing.STOPWORDS and len(token) > 3:\n",
    "            result.append(lemmatize_stemming(token))\n",
    "    return result"
   ]
  },
  {
   "cell_type": "code",
   "execution_count": 9,
   "metadata": {},
   "outputs": [
    {
     "name": "stdout",
     "output_type": "stream",
     "text": [
      "original document: \n",
      "['ratepayers', 'group', 'wants', 'compulsory', 'local', 'govt', 'voting']\n",
      "\n",
      "\n",
      " tokenized and lemmatized document: \n",
      "['ratepay', 'group', 'want', 'compulsori', 'local', 'govt', 'vote']\n"
     ]
    }
   ],
   "source": [
    "doc_sample = documents[documents['index'] == 4310].values[0][0]\n",
    "\n",
    "print('original document: ')\n",
    "words = []\n",
    "for word in doc_sample.split(' '):\n",
    "    words.append(word)\n",
    "print(words)\n",
    "print('\\n\\n tokenized and lemmatized document: ')\n",
    "print(preprocess(doc_sample))"
   ]
  },
  {
   "cell_type": "code",
   "execution_count": 10,
   "metadata": {},
   "outputs": [],
   "source": [
    "processed_docs = documents['headline_text'].map(preprocess)"
   ]
  },
  {
   "cell_type": "code",
   "execution_count": 11,
   "metadata": {},
   "outputs": [
    {
     "data": {
      "text/plain": [
       "0            [decid, communiti, broadcast, licenc]\n",
       "1                               [wit, awar, defam]\n",
       "2           [call, infrastructur, protect, summit]\n",
       "3                      [staff, aust, strike, rise]\n",
       "4             [strike, affect, australian, travel]\n",
       "5               [ambiti, olsson, win, tripl, jump]\n",
       "6           [antic, delight, record, break, barca]\n",
       "7    [aussi, qualifi, stosur, wast, memphi, match]\n",
       "8            [aust, address, secur, council, iraq]\n",
       "9                         [australia, lock, timet]\n",
       "Name: headline_text, dtype: object"
      ]
     },
     "execution_count": 11,
     "metadata": {},
     "output_type": "execute_result"
    }
   ],
   "source": [
    "processed_docs[:10]"
   ]
  },
  {
   "cell_type": "markdown",
   "metadata": {},
   "source": [
    "# Bag of words on the dataset"
   ]
  },
  {
   "cell_type": "code",
   "execution_count": 12,
   "metadata": {},
   "outputs": [],
   "source": [
    "dictionary = gensim.corpora.Dictionary(processed_docs)"
   ]
  },
  {
   "cell_type": "code",
   "execution_count": 13,
   "metadata": {},
   "outputs": [
    {
     "name": "stdout",
     "output_type": "stream",
     "text": [
      "0 broadcast\n",
      "1 communiti\n",
      "2 decid\n",
      "3 licenc\n",
      "4 awar\n",
      "5 defam\n",
      "6 wit\n",
      "7 call\n",
      "8 infrastructur\n",
      "9 protect\n",
      "10 summit\n"
     ]
    }
   ],
   "source": [
    "count = 0\n",
    "for k, v in dictionary.iteritems():\n",
    "    print(k, v)\n",
    "    count += 1\n",
    "    if count > 10:\n",
    "        break"
   ]
  },
  {
   "cell_type": "code",
   "execution_count": 14,
   "metadata": {},
   "outputs": [],
   "source": [
    "dictionary.filter_extremes(no_below=15, no_above=0.5, keep_n=100000)"
   ]
  },
  {
   "cell_type": "code",
   "execution_count": 15,
   "metadata": {},
   "outputs": [
    {
     "data": {
      "text/plain": [
       "[(162, 1), (240, 1), (292, 1), (589, 1), (838, 1), (3567, 1), (3568, 1)]"
      ]
     },
     "execution_count": 15,
     "metadata": {},
     "output_type": "execute_result"
    }
   ],
   "source": [
    "bow_corpus = [dictionary.doc2bow(doc) for doc in processed_docs]\n",
    "bow_corpus[4310]"
   ]
  },
  {
   "cell_type": "code",
   "execution_count": 16,
   "metadata": {},
   "outputs": [
    {
     "name": "stdout",
     "output_type": "stream",
     "text": [
      "Word 162 (\"govt\") appears 1 time.\n",
      "Word 240 (\"group\") appears 1 time.\n",
      "Word 292 (\"vote\") appears 1 time.\n",
      "Word 589 (\"local\") appears 1 time.\n",
      "Word 838 (\"want\") appears 1 time.\n",
      "Word 3567 (\"compulsori\") appears 1 time.\n",
      "Word 3568 (\"ratepay\") appears 1 time.\n"
     ]
    }
   ],
   "source": [
    "bow_doc_4310 = bow_corpus[4310]\n",
    "\n",
    "for i in range(len(bow_doc_4310)):\n",
    "    print(\"Word {} (\\\"{}\\\") appears {} time.\".format(bow_doc_4310[i][0], \n",
    "                                                     dictionary[bow_doc_4310[i][0]], \n",
    "                                                     bow_doc_4310[i][1]))"
   ]
  },
  {
   "cell_type": "markdown",
   "metadata": {},
   "source": [
    "# TF-IDF"
   ]
  },
  {
   "cell_type": "code",
   "execution_count": 17,
   "metadata": {},
   "outputs": [],
   "source": [
    "from gensim import corpora, models\n",
    "\n",
    "tfidf = models.TfidfModel(bow_corpus)"
   ]
  },
  {
   "cell_type": "code",
   "execution_count": 18,
   "metadata": {},
   "outputs": [],
   "source": [
    "corpus_tfidf = tfidf[bow_corpus]"
   ]
  },
  {
   "cell_type": "code",
   "execution_count": 19,
   "metadata": {},
   "outputs": [
    {
     "name": "stdout",
     "output_type": "stream",
     "text": [
      "[(0, 0.5850076620505259),\n",
      " (1, 0.38947256567331934),\n",
      " (2, 0.4997099083387053),\n",
      " (3, 0.5063271308533074)]\n"
     ]
    }
   ],
   "source": [
    "from pprint import pprint\n",
    "\n",
    "for doc in corpus_tfidf:\n",
    "    pprint(doc)\n",
    "    break"
   ]
  },
  {
   "cell_type": "markdown",
   "metadata": {},
   "source": [
    "# Running LDA using Bag of Words"
   ]
  },
  {
   "cell_type": "code",
   "execution_count": 20,
   "metadata": {},
   "outputs": [],
   "source": [
    "lda_model = gensim.models.LdaMulticore(bow_corpus, num_topics=10, id2word=dictionary, passes=2, workers=2)"
   ]
  },
  {
   "cell_type": "code",
   "execution_count": 21,
   "metadata": {},
   "outputs": [
    {
     "name": "stdout",
     "output_type": "stream",
     "text": [
      "Topic: 0 \n",
      "Words: 0.022*\"hous\" + 0.022*\"south\" + 0.020*\"north\" + 0.016*\"miss\" + 0.015*\"bushfir\" + 0.013*\"interview\" + 0.012*\"west\" + 0.012*\"hospit\" + 0.011*\"coast\" + 0.010*\"island\"\n",
      "Topic: 1 \n",
      "Words: 0.031*\"kill\" + 0.023*\"shoot\" + 0.020*\"dead\" + 0.020*\"attack\" + 0.019*\"polic\" + 0.018*\"protest\" + 0.014*\"offic\" + 0.013*\"assault\" + 0.011*\"michael\" + 0.011*\"bank\"\n",
      "Topic: 2 \n",
      "Words: 0.056*\"australia\" + 0.045*\"australian\" + 0.026*\"world\" + 0.017*\"test\" + 0.017*\"canberra\" + 0.013*\"win\" + 0.011*\"final\" + 0.011*\"open\" + 0.011*\"farm\" + 0.010*\"return\"\n",
      "Topic: 3 \n",
      "Words: 0.031*\"polic\" + 0.029*\"charg\" + 0.026*\"court\" + 0.025*\"death\" + 0.024*\"murder\" + 0.020*\"woman\" + 0.017*\"face\" + 0.017*\"alleg\" + 0.016*\"crash\" + 0.013*\"jail\"\n",
      "Topic: 4 \n",
      "Words: 0.019*\"chang\" + 0.019*\"say\" + 0.015*\"speak\" + 0.015*\"power\" + 0.013*\"worker\" + 0.012*\"concern\" + 0.012*\"climat\" + 0.011*\"flood\" + 0.010*\"fear\" + 0.010*\"storm\"\n",
      "Topic: 5 \n",
      "Words: 0.022*\"market\" + 0.019*\"news\" + 0.018*\"women\" + 0.017*\"live\" + 0.016*\"tasmania\" + 0.013*\"rise\" + 0.013*\"high\" + 0.012*\"price\" + 0.012*\"lose\" + 0.012*\"street\"\n",
      "Topic: 6 \n",
      "Words: 0.035*\"elect\" + 0.018*\"water\" + 0.018*\"state\" + 0.016*\"tasmanian\" + 0.012*\"labor\" + 0.011*\"liber\" + 0.011*\"morrison\" + 0.011*\"leader\" + 0.010*\"parti\" + 0.010*\"campaign\"\n",
      "Topic: 7 \n",
      "Words: 0.020*\"donald\" + 0.014*\"nation\" + 0.014*\"farmer\" + 0.014*\"plan\" + 0.013*\"rural\" + 0.013*\"time\" + 0.013*\"council\" + 0.013*\"indigen\" + 0.011*\"school\" + 0.011*\"commiss\"\n",
      "Topic: 8 \n",
      "Words: 0.044*\"trump\" + 0.036*\"year\" + 0.034*\"sydney\" + 0.027*\"queensland\" + 0.022*\"home\" + 0.020*\"adelaid\" + 0.018*\"perth\" + 0.016*\"brisban\" + 0.015*\"leav\" + 0.015*\"peopl\"\n",
      "Topic: 9 \n",
      "Words: 0.031*\"govern\" + 0.020*\"warn\" + 0.019*\"feder\" + 0.015*\"countri\" + 0.015*\"fund\" + 0.014*\"claim\" + 0.014*\"life\" + 0.012*\"say\" + 0.012*\"health\" + 0.011*\"stori\"\n"
     ]
    }
   ],
   "source": [
    "for idx, topic in lda_model.print_topics(-1):\n",
    "    print('Topic: {} \\nWords: {}'.format(idx, topic))"
   ]
  },
  {
   "cell_type": "markdown",
   "metadata": {},
   "source": [
    "Cool! Can you distinguish different topics using the words in each topic and their corresponding weights?"
   ]
  },
  {
   "cell_type": "markdown",
   "metadata": {},
   "source": [
    "# Running LDA using TF-IDF"
   ]
  },
  {
   "cell_type": "code",
   "execution_count": 22,
   "metadata": {},
   "outputs": [],
   "source": [
    "lda_model_tfidf = gensim.models.LdaMulticore(corpus_tfidf, num_topics=10, id2word=dictionary, passes=2, workers=4)"
   ]
  },
  {
   "cell_type": "code",
   "execution_count": 23,
   "metadata": {},
   "outputs": [
    {
     "name": "stdout",
     "output_type": "stream",
     "text": [
      "Topic: 0 Word: 0.022*\"news\" + 0.014*\"crash\" + 0.012*\"market\" + 0.009*\"miss\" + 0.009*\"die\" + 0.008*\"friday\" + 0.008*\"search\" + 0.007*\"violenc\" + 0.006*\"dead\" + 0.006*\"rescu\"\n",
      "Topic: 1 Word: 0.012*\"rural\" + 0.011*\"govern\" + 0.007*\"elect\" + 0.007*\"nation\" + 0.006*\"feder\" + 0.006*\"say\" + 0.006*\"fund\" + 0.005*\"labor\" + 0.005*\"plan\" + 0.005*\"morrison\"\n",
      "Topic: 2 Word: 0.020*\"countri\" + 0.015*\"hour\" + 0.009*\"turnbul\" + 0.009*\"health\" + 0.008*\"bushfir\" + 0.007*\"mental\" + 0.006*\"beach\" + 0.006*\"decemb\" + 0.006*\"explain\" + 0.006*\"insid\"\n",
      "Topic: 3 Word: 0.017*\"donald\" + 0.009*\"scott\" + 0.008*\"wall\" + 0.008*\"sport\" + 0.008*\"street\" + 0.006*\"septemb\" + 0.006*\"octob\" + 0.006*\"novemb\" + 0.005*\"facebook\" + 0.005*\"toni\"\n",
      "Topic: 4 Word: 0.011*\"australia\" + 0.011*\"world\" + 0.010*\"final\" + 0.009*\"leagu\" + 0.008*\"monday\" + 0.008*\"live\" + 0.008*\"wednesday\" + 0.008*\"cricket\" + 0.007*\"david\" + 0.007*\"juli\"\n",
      "Topic: 5 Word: 0.014*\"drum\" + 0.013*\"interview\" + 0.010*\"royal\" + 0.009*\"tuesday\" + 0.008*\"korea\" + 0.008*\"michael\" + 0.007*\"commiss\" + 0.007*\"kill\" + 0.006*\"presid\" + 0.006*\"russia\"\n",
      "Topic: 6 Word: 0.009*\"thursday\" + 0.007*\"price\" + 0.006*\"dairi\" + 0.006*\"jam\" + 0.006*\"fiji\" + 0.006*\"post\" + 0.006*\"disabl\" + 0.006*\"asylum\" + 0.005*\"territori\" + 0.005*\"long\"\n",
      "Topic: 7 Word: 0.027*\"trump\" + 0.013*\"coast\" + 0.011*\"stori\" + 0.010*\"south\" + 0.009*\"weather\" + 0.009*\"gold\" + 0.008*\"climat\" + 0.008*\"west\" + 0.007*\"australia\" + 0.006*\"hobart\"\n",
      "Topic: 8 Word: 0.020*\"charg\" + 0.017*\"polic\" + 0.017*\"murder\" + 0.012*\"court\" + 0.012*\"alleg\" + 0.011*\"woman\" + 0.010*\"jail\" + 0.009*\"arrest\" + 0.009*\"sentenc\" + 0.009*\"shoot\"\n",
      "Topic: 9 Word: 0.011*\"christma\" + 0.009*\"john\" + 0.009*\"grandstand\" + 0.007*\"cancer\" + 0.007*\"june\" + 0.007*\"farm\" + 0.007*\"quiz\" + 0.006*\"univers\" + 0.006*\"hong\" + 0.006*\"kong\"\n"
     ]
    }
   ],
   "source": [
    "for idx, topic in lda_model_tfidf.print_topics(-1):\n",
    "    print('Topic: {} Word: {}'.format(idx, topic))"
   ]
  },
  {
   "cell_type": "markdown",
   "metadata": {},
   "source": [
    "# Classification of the topics"
   ]
  },
  {
   "cell_type": "code",
   "execution_count": 24,
   "metadata": {},
   "outputs": [
    {
     "data": {
      "text/plain": [
       "['ratepay', 'group', 'want', 'compulsori', 'local', 'govt', 'vote']"
      ]
     },
     "execution_count": 24,
     "metadata": {},
     "output_type": "execute_result"
    }
   ],
   "source": [
    "processed_docs[4310]"
   ]
  },
  {
   "cell_type": "code",
   "execution_count": 25,
   "metadata": {},
   "outputs": [
    {
     "name": "stdout",
     "output_type": "stream",
     "text": [
      "\n",
      "Score: 0.457031786441803\t \n",
      "Topic: 0.020*\"donald\" + 0.014*\"nation\" + 0.014*\"farmer\" + 0.014*\"plan\" + 0.013*\"rural\" + 0.013*\"time\" + 0.013*\"council\" + 0.013*\"indigen\" + 0.011*\"school\" + 0.011*\"commiss\"\n",
      "\n",
      "Score: 0.4429357051849365\t \n",
      "Topic: 0.031*\"govern\" + 0.020*\"warn\" + 0.019*\"feder\" + 0.015*\"countri\" + 0.015*\"fund\" + 0.014*\"claim\" + 0.014*\"life\" + 0.012*\"say\" + 0.012*\"health\" + 0.011*\"stori\"\n",
      "\n",
      "Score: 0.012506910599768162\t \n",
      "Topic: 0.035*\"elect\" + 0.018*\"water\" + 0.018*\"state\" + 0.016*\"tasmanian\" + 0.012*\"labor\" + 0.011*\"liber\" + 0.011*\"morrison\" + 0.011*\"leader\" + 0.010*\"parti\" + 0.010*\"campaign\"\n",
      "\n",
      "Score: 0.012504234910011292\t \n",
      "Topic: 0.019*\"chang\" + 0.019*\"say\" + 0.015*\"speak\" + 0.015*\"power\" + 0.013*\"worker\" + 0.012*\"concern\" + 0.012*\"climat\" + 0.011*\"flood\" + 0.010*\"fear\" + 0.010*\"storm\"\n",
      "\n",
      "Score: 0.012503559701144695\t \n",
      "Topic: 0.022*\"hous\" + 0.022*\"south\" + 0.020*\"north\" + 0.016*\"miss\" + 0.015*\"bushfir\" + 0.013*\"interview\" + 0.012*\"west\" + 0.012*\"hospit\" + 0.011*\"coast\" + 0.010*\"island\"\n",
      "\n",
      "Score: 0.012503559701144695\t \n",
      "Topic: 0.031*\"kill\" + 0.023*\"shoot\" + 0.020*\"dead\" + 0.020*\"attack\" + 0.019*\"polic\" + 0.018*\"protest\" + 0.014*\"offic\" + 0.013*\"assault\" + 0.011*\"michael\" + 0.011*\"bank\"\n",
      "\n",
      "Score: 0.012503559701144695\t \n",
      "Topic: 0.056*\"australia\" + 0.045*\"australian\" + 0.026*\"world\" + 0.017*\"test\" + 0.017*\"canberra\" + 0.013*\"win\" + 0.011*\"final\" + 0.011*\"open\" + 0.011*\"farm\" + 0.010*\"return\"\n",
      "\n",
      "Score: 0.012503559701144695\t \n",
      "Topic: 0.031*\"polic\" + 0.029*\"charg\" + 0.026*\"court\" + 0.025*\"death\" + 0.024*\"murder\" + 0.020*\"woman\" + 0.017*\"face\" + 0.017*\"alleg\" + 0.016*\"crash\" + 0.013*\"jail\"\n",
      "\n",
      "Score: 0.012503559701144695\t \n",
      "Topic: 0.022*\"market\" + 0.019*\"news\" + 0.018*\"women\" + 0.017*\"live\" + 0.016*\"tasmania\" + 0.013*\"rise\" + 0.013*\"high\" + 0.012*\"price\" + 0.012*\"lose\" + 0.012*\"street\"\n",
      "\n",
      "Score: 0.012503559701144695\t \n",
      "Topic: 0.044*\"trump\" + 0.036*\"year\" + 0.034*\"sydney\" + 0.027*\"queensland\" + 0.022*\"home\" + 0.020*\"adelaid\" + 0.018*\"perth\" + 0.016*\"brisban\" + 0.015*\"leav\" + 0.015*\"peopl\"\n"
     ]
    }
   ],
   "source": [
    "for index, score in sorted(lda_model[bow_corpus[4310]], key=lambda tup: -1*tup[1]):\n",
    "    print(\"\\nScore: {}\\t \\nTopic: {}\".format(score, lda_model.print_topic(index, 10)))"
   ]
  },
  {
   "cell_type": "markdown",
   "metadata": {},
   "source": [
    "Our test document has the highest probability to be part of the topic on the top."
   ]
  },
  {
   "cell_type": "markdown",
   "metadata": {},
   "source": [
    "# Performance evaluation by classifying sample document using LDA TF-IDF model"
   ]
  },
  {
   "cell_type": "code",
   "execution_count": 26,
   "metadata": {},
   "outputs": [
    {
     "name": "stdout",
     "output_type": "stream",
     "text": [
      "\n",
      "Score: 0.5334686040878296\t \n",
      "Topic: 0.012*\"rural\" + 0.011*\"govern\" + 0.007*\"elect\" + 0.007*\"nation\" + 0.006*\"feder\" + 0.006*\"say\" + 0.006*\"fund\" + 0.005*\"labor\" + 0.005*\"plan\" + 0.005*\"morrison\"\n",
      "\n",
      "Score: 0.19596916437149048\t \n",
      "Topic: 0.017*\"donald\" + 0.009*\"scott\" + 0.008*\"wall\" + 0.008*\"sport\" + 0.008*\"street\" + 0.006*\"septemb\" + 0.006*\"octob\" + 0.006*\"novemb\" + 0.005*\"facebook\" + 0.005*\"toni\"\n",
      "\n",
      "Score: 0.18301677703857422\t \n",
      "Topic: 0.020*\"countri\" + 0.015*\"hour\" + 0.009*\"turnbul\" + 0.009*\"health\" + 0.008*\"bushfir\" + 0.007*\"mental\" + 0.006*\"beach\" + 0.006*\"decemb\" + 0.006*\"explain\" + 0.006*\"insid\"\n",
      "\n",
      "Score: 0.012507101520895958\t \n",
      "Topic: 0.014*\"drum\" + 0.013*\"interview\" + 0.010*\"royal\" + 0.009*\"tuesday\" + 0.008*\"korea\" + 0.008*\"michael\" + 0.007*\"commiss\" + 0.007*\"kill\" + 0.006*\"presid\" + 0.006*\"russia\"\n",
      "\n",
      "Score: 0.012507045641541481\t \n",
      "Topic: 0.009*\"thursday\" + 0.007*\"price\" + 0.006*\"dairi\" + 0.006*\"jam\" + 0.006*\"fiji\" + 0.006*\"post\" + 0.006*\"disabl\" + 0.006*\"asylum\" + 0.005*\"territori\" + 0.005*\"long\"\n",
      "\n",
      "Score: 0.012506512925028801\t \n",
      "Topic: 0.011*\"christma\" + 0.009*\"john\" + 0.009*\"grandstand\" + 0.007*\"cancer\" + 0.007*\"june\" + 0.007*\"farm\" + 0.007*\"quiz\" + 0.006*\"univers\" + 0.006*\"hong\" + 0.006*\"kong\"\n",
      "\n",
      "Score: 0.012506281025707722\t \n",
      "Topic: 0.022*\"news\" + 0.014*\"crash\" + 0.012*\"market\" + 0.009*\"miss\" + 0.009*\"die\" + 0.008*\"friday\" + 0.008*\"search\" + 0.007*\"violenc\" + 0.006*\"dead\" + 0.006*\"rescu\"\n",
      "\n",
      "Score: 0.012506278231739998\t \n",
      "Topic: 0.027*\"trump\" + 0.013*\"coast\" + 0.011*\"stori\" + 0.010*\"south\" + 0.009*\"weather\" + 0.009*\"gold\" + 0.008*\"climat\" + 0.008*\"west\" + 0.007*\"australia\" + 0.006*\"hobart\"\n",
      "\n",
      "Score: 0.01250617764890194\t \n",
      "Topic: 0.020*\"charg\" + 0.017*\"polic\" + 0.017*\"murder\" + 0.012*\"court\" + 0.012*\"alleg\" + 0.011*\"woman\" + 0.010*\"jail\" + 0.009*\"arrest\" + 0.009*\"sentenc\" + 0.009*\"shoot\"\n",
      "\n",
      "Score: 0.012506063096225262\t \n",
      "Topic: 0.011*\"australia\" + 0.011*\"world\" + 0.010*\"final\" + 0.009*\"leagu\" + 0.008*\"monday\" + 0.008*\"live\" + 0.008*\"wednesday\" + 0.008*\"cricket\" + 0.007*\"david\" + 0.007*\"juli\"\n"
     ]
    }
   ],
   "source": [
    "for index, score in sorted(lda_model_tfidf[bow_corpus[4310]], key=lambda tup: -1*tup[1]):\n",
    "    print(\"\\nScore: {}\\t \\nTopic: {}\".format(score, lda_model_tfidf.print_topic(index, 10)))"
   ]
  },
  {
   "cell_type": "markdown",
   "metadata": {},
   "source": [
    "# Testing model on unseen document"
   ]
  },
  {
   "cell_type": "code",
   "execution_count": 27,
   "metadata": {},
   "outputs": [
    {
     "name": "stdout",
     "output_type": "stream",
     "text": [
      "Score: 0.4890992343425751\t Topic: 0.022*\"market\" + 0.019*\"news\" + 0.018*\"women\" + 0.017*\"live\" + 0.016*\"tasmania\"\n",
      "Score: 0.2112114429473877\t Topic: 0.035*\"elect\" + 0.018*\"water\" + 0.018*\"state\" + 0.016*\"tasmanian\" + 0.012*\"labor\"\n",
      "Score: 0.18295393884181976\t Topic: 0.031*\"polic\" + 0.029*\"charg\" + 0.026*\"court\" + 0.025*\"death\" + 0.024*\"murder\"\n",
      "Score: 0.016677169129252434\t Topic: 0.019*\"chang\" + 0.019*\"say\" + 0.015*\"speak\" + 0.015*\"power\" + 0.013*\"worker\"\n",
      "Score: 0.016677040606737137\t Topic: 0.031*\"govern\" + 0.020*\"warn\" + 0.019*\"feder\" + 0.015*\"countri\" + 0.015*\"fund\"\n",
      "Score: 0.01667623408138752\t Topic: 0.022*\"hous\" + 0.022*\"south\" + 0.020*\"north\" + 0.016*\"miss\" + 0.015*\"bushfir\"\n",
      "Score: 0.01667623408138752\t Topic: 0.031*\"kill\" + 0.023*\"shoot\" + 0.020*\"dead\" + 0.020*\"attack\" + 0.019*\"polic\"\n",
      "Score: 0.01667623408138752\t Topic: 0.056*\"australia\" + 0.045*\"australian\" + 0.026*\"world\" + 0.017*\"test\" + 0.017*\"canberra\"\n",
      "Score: 0.01667623408138752\t Topic: 0.020*\"donald\" + 0.014*\"nation\" + 0.014*\"farmer\" + 0.014*\"plan\" + 0.013*\"rural\"\n",
      "Score: 0.01667623408138752\t Topic: 0.044*\"trump\" + 0.036*\"year\" + 0.034*\"sydney\" + 0.027*\"queensland\" + 0.022*\"home\"\n"
     ]
    }
   ],
   "source": [
    "unseen_document = 'How a Pentagon deal became an identity crisis for Google'\n",
    "bow_vector = dictionary.doc2bow(preprocess(unseen_document))\n",
    "\n",
    "for index, score in sorted(lda_model[bow_vector], key=lambda tup: -1*tup[1]):\n",
    "    print(\"Score: {}\\t Topic: {}\".format(score, lda_model.print_topic(index, 5)))"
   ]
  }
 ],
 "metadata": {
  "kernelspec": {
   "display_name": "Python 3",
   "language": "python",
   "name": "python3"
  },
  "language_info": {
   "codemirror_mode": {
    "name": "ipython",
    "version": 3
   },
   "file_extension": ".py",
   "mimetype": "text/x-python",
   "name": "python",
   "nbconvert_exporter": "python",
   "pygments_lexer": "ipython3",
   "version": "3.7.6"
  }
 },
 "nbformat": 4,
 "nbformat_minor": 4
}
